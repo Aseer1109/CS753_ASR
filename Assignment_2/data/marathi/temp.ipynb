{
 "cells": [
  {
   "cell_type": "code",
   "execution_count": 2,
   "metadata": {},
   "outputs": [
    {
     "name": "stdout",
     "output_type": "stream",
     "text": [
      "['test\\\\mrt_03397_02119986802.csv', 'test\\\\mrt_03398_02142956376.csv', 'test\\\\mrt_03398_02145517609.csv', 'test\\\\mrt_04310_02117569342.csv', 'test\\\\mrt_09697_02139010528.csv']\n",
      "['train\\\\mrt_01523_00028548203.csv', 'train\\\\mrt_01523_00029882518.csv', 'train\\\\mrt_02436_00013089849.csv', 'train\\\\mrt_02436_00013484215.csv', 'train\\\\mrt_02484_00002806507.csv', 'train\\\\mrt_02484_00007602377.csv', 'train\\\\mrt_02624_00000391676.csv', 'train\\\\mrt_02624_00007390408.csv', 'train\\\\mrt_03349_00062047674.csv', 'train\\\\mrt_03349_00062847458.csv']\n"
     ]
    }
   ],
   "source": [
    "import os\n",
    "train = []\n",
    "temp = os.listdir('test')\n",
    "\n",
    "for t in temp:\n",
    "    if t[-3:] == 'csv':\n",
    "        train.append(os.path.join('test',t))\n",
    "\n",
    "print(train)\n",
    "\n",
    "train = []\n",
    "temp = os.listdir('train')\n",
    "\n",
    "for t in temp:\n",
    "    if t[-3:] == 'csv':\n",
    "        train.append(os.path.join('train',t))\n",
    "\n",
    "print(train)"
   ]
  },
  {
   "cell_type": "code",
   "execution_count": 2,
   "metadata": {},
   "outputs": [],
   "source": [
    "import codecs\n",
    "\n",
    "# f = codecs.open('alphabet.txt', encoding=\"utf-8\")\n",
    "f = open(\"alphabet.txt\", \"w\", encoding=\"utf-8\")\n",
    "\n",
    "f.write(' \\n')\n",
    "for i in range(2304,2431+1):\n",
    "    # print(chr(i))   \n",
    "    f.write(chr(i)+'\\n')\n",
    "\n",
    "f.write('?\\n')\n",
    "f.close()"
   ]
  }
 ],
 "metadata": {
  "interpreter": {
   "hash": "cb34221c29cbd393528f59737984b7cee90fecb74dfd32a425a37477f31f3c8a"
  },
  "kernelspec": {
   "display_name": "Python 3.9.6 64-bit",
   "language": "python",
   "name": "python3"
  },
  "language_info": {
   "codemirror_mode": {
    "name": "ipython",
    "version": 3
   },
   "file_extension": ".py",
   "mimetype": "text/x-python",
   "name": "python",
   "nbconvert_exporter": "python",
   "pygments_lexer": "ipython3",
   "version": "3.9.6"
  },
  "orig_nbformat": 4
 },
 "nbformat": 4,
 "nbformat_minor": 2
}
