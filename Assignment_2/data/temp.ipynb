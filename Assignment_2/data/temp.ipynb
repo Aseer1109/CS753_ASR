{
 "cells": [
  {
   "cell_type": "code",
   "execution_count": 2,
   "metadata": {},
   "outputs": [],
   "source": [
    "import os\n",
    "train = []\n",
    "temp = os.listdir('train')\n",
    "\n",
    "for t in temp:\n",
    "    if t[-3:] == 'csv':\n",
    "        train.append(os.path.join('marathi','train',t))"
   ]
  },
  {
   "cell_type": "code",
   "execution_count": 3,
   "metadata": {},
   "outputs": [
    {
     "data": {
      "text/plain": [
       "['marathi\\\\train\\\\mrt_01523_00028548203.csv',\n",
       " 'marathi\\\\train\\\\mrt_01523_00029882518.csv',\n",
       " 'marathi\\\\train\\\\mrt_02436_00013089849.csv',\n",
       " 'marathi\\\\train\\\\mrt_02436_00013484215.csv',\n",
       " 'marathi\\\\train\\\\mrt_02484_00002806507.csv',\n",
       " 'marathi\\\\train\\\\mrt_02484_00007602377.csv',\n",
       " 'marathi\\\\train\\\\mrt_02624_00000391676.csv',\n",
       " 'marathi\\\\train\\\\mrt_02624_00007390408.csv',\n",
       " 'marathi\\\\train\\\\mrt_03349_00062047674.csv',\n",
       " 'marathi\\\\train\\\\mrt_03349_00062847458.csv']"
      ]
     },
     "execution_count": 3,
     "metadata": {},
     "output_type": "execute_result"
    }
   ],
   "source": [
    "train"
   ]
  }
 ],
 "metadata": {
  "interpreter": {
   "hash": "cb34221c29cbd393528f59737984b7cee90fecb74dfd32a425a37477f31f3c8a"
  },
  "kernelspec": {
   "display_name": "Python 3.9.6 64-bit",
   "language": "python",
   "name": "python3"
  },
  "language_info": {
   "codemirror_mode": {
    "name": "ipython",
    "version": 3
   },
   "file_extension": ".py",
   "mimetype": "text/x-python",
   "name": "python",
   "nbconvert_exporter": "python",
   "pygments_lexer": "ipython3",
   "version": "3.9.6"
  },
  "orig_nbformat": 4
 },
 "nbformat": 4,
 "nbformat_minor": 2
}
